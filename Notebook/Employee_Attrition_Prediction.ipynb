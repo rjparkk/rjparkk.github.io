{
 "cells": [
  {
   "cell_type": "markdown",
   "metadata": {
    "colab_type": "text",
    "id": "xwYchZMwtQEa"
   },
   "source": [
    "Load the data and perform EDA.\n",
    "\n",
    "https://www.kaggle.com/pavansubhasht/ibm-hr-analytics-attrition-dataset\n",
    "\n",
    "1. Evaluate missing values\n",
    "2. Assess target class distribution\n",
    "3. Assess information value of individual features (correlation analysis and pairlot).\n"
   ]
  },
  {
   "cell_type": "code",
   "execution_count": 316,
   "metadata": {
    "colab": {},
    "colab_type": "code",
    "id": "8-OsqFcWHf4t"
   },
   "outputs": [
    {
     "data": {
      "text/plain": [
       "Attrition                   0\n",
       "BusinessTravel              0\n",
       "DailyRate                   0\n",
       "Department                  0\n",
       "DistanceFromHome            0\n",
       "Education                   0\n",
       "EducationField              0\n",
       "EmployeeCount               0\n",
       "EmployeeNumber              0\n",
       "EnvironmentSatisfaction     0\n",
       "Gender                      0\n",
       "HourlyRate                  0\n",
       "JobInvolvement              0\n",
       "JobLevel                    0\n",
       "JobRole                     0\n",
       "JobSatisfaction             0\n",
       "MaritalStatus               0\n",
       "MonthlyIncome               0\n",
       "MonthlyRate                 0\n",
       "NumCompaniesWorked          0\n",
       "Over18                      0\n",
       "OverTime                    0\n",
       "PercentSalaryHike           0\n",
       "PerformanceRating           0\n",
       "RelationshipSatisfaction    0\n",
       "StandardHours               0\n",
       "StockOptionLevel            0\n",
       "TotalWorkingYears           0\n",
       "TrainingTimesLastYear       0\n",
       "WorkLifeBalance             0\n",
       "YearsAtCompany              0\n",
       "YearsInCurrentRole          0\n",
       "YearsSinceLastPromotion     0\n",
       "YearsWithCurrManager        0\n",
       "dtype: int64"
      ]
     },
     "execution_count": 316,
     "metadata": {},
     "output_type": "execute_result"
    }
   ],
   "source": [
    "import pandas as pd\n",
    "import numpy as np\n",
    "import matplotlib.pyplot as plt\n",
    "import seaborn as sns\n",
    "\n",
    "ibm = pd.read_csv('WA_Fn-UseC_-HR-Employee-Attrition.csv',index_col=0)\n",
    "\n",
    "# Evaluate missing values\n",
    "ibm.isnull().sum()"
   ]
  },
  {
   "cell_type": "code",
   "execution_count": 317,
   "metadata": {
    "nteract": {
     "transient": {
      "deleting": false
     }
    }
   },
   "outputs": [
    {
     "data": {
      "text/html": [
       "<div>\n",
       "<style scoped>\n",
       "    .dataframe tbody tr th:only-of-type {\n",
       "        vertical-align: middle;\n",
       "    }\n",
       "\n",
       "    .dataframe tbody tr th {\n",
       "        vertical-align: top;\n",
       "    }\n",
       "\n",
       "    .dataframe thead th {\n",
       "        text-align: right;\n",
       "    }\n",
       "</style>\n",
       "<table border=\"1\" class=\"dataframe\">\n",
       "  <thead>\n",
       "    <tr style=\"text-align: right;\">\n",
       "      <th></th>\n",
       "      <th>count</th>\n",
       "      <th>mean</th>\n",
       "      <th>std</th>\n",
       "      <th>min</th>\n",
       "      <th>25%</th>\n",
       "      <th>50%</th>\n",
       "      <th>75%</th>\n",
       "      <th>max</th>\n",
       "    </tr>\n",
       "  </thead>\n",
       "  <tbody>\n",
       "    <tr>\n",
       "      <th>DailyRate</th>\n",
       "      <td>1470.0</td>\n",
       "      <td>802.485714</td>\n",
       "      <td>403.509100</td>\n",
       "      <td>102.0</td>\n",
       "      <td>465.00</td>\n",
       "      <td>802.0</td>\n",
       "      <td>1157.00</td>\n",
       "      <td>1499.0</td>\n",
       "    </tr>\n",
       "    <tr>\n",
       "      <th>DistanceFromHome</th>\n",
       "      <td>1470.0</td>\n",
       "      <td>9.192517</td>\n",
       "      <td>8.106864</td>\n",
       "      <td>1.0</td>\n",
       "      <td>2.00</td>\n",
       "      <td>7.0</td>\n",
       "      <td>14.00</td>\n",
       "      <td>29.0</td>\n",
       "    </tr>\n",
       "    <tr>\n",
       "      <th>Education</th>\n",
       "      <td>1470.0</td>\n",
       "      <td>2.912925</td>\n",
       "      <td>1.024165</td>\n",
       "      <td>1.0</td>\n",
       "      <td>2.00</td>\n",
       "      <td>3.0</td>\n",
       "      <td>4.00</td>\n",
       "      <td>5.0</td>\n",
       "    </tr>\n",
       "    <tr>\n",
       "      <th>EmployeeCount</th>\n",
       "      <td>1470.0</td>\n",
       "      <td>1.000000</td>\n",
       "      <td>0.000000</td>\n",
       "      <td>1.0</td>\n",
       "      <td>1.00</td>\n",
       "      <td>1.0</td>\n",
       "      <td>1.00</td>\n",
       "      <td>1.0</td>\n",
       "    </tr>\n",
       "    <tr>\n",
       "      <th>EmployeeNumber</th>\n",
       "      <td>1470.0</td>\n",
       "      <td>1024.865306</td>\n",
       "      <td>602.024335</td>\n",
       "      <td>1.0</td>\n",
       "      <td>491.25</td>\n",
       "      <td>1020.5</td>\n",
       "      <td>1555.75</td>\n",
       "      <td>2068.0</td>\n",
       "    </tr>\n",
       "    <tr>\n",
       "      <th>EnvironmentSatisfaction</th>\n",
       "      <td>1470.0</td>\n",
       "      <td>2.721769</td>\n",
       "      <td>1.093082</td>\n",
       "      <td>1.0</td>\n",
       "      <td>2.00</td>\n",
       "      <td>3.0</td>\n",
       "      <td>4.00</td>\n",
       "      <td>4.0</td>\n",
       "    </tr>\n",
       "    <tr>\n",
       "      <th>HourlyRate</th>\n",
       "      <td>1470.0</td>\n",
       "      <td>65.891156</td>\n",
       "      <td>20.329428</td>\n",
       "      <td>30.0</td>\n",
       "      <td>48.00</td>\n",
       "      <td>66.0</td>\n",
       "      <td>83.75</td>\n",
       "      <td>100.0</td>\n",
       "    </tr>\n",
       "    <tr>\n",
       "      <th>JobInvolvement</th>\n",
       "      <td>1470.0</td>\n",
       "      <td>2.729932</td>\n",
       "      <td>0.711561</td>\n",
       "      <td>1.0</td>\n",
       "      <td>2.00</td>\n",
       "      <td>3.0</td>\n",
       "      <td>3.00</td>\n",
       "      <td>4.0</td>\n",
       "    </tr>\n",
       "    <tr>\n",
       "      <th>JobLevel</th>\n",
       "      <td>1470.0</td>\n",
       "      <td>2.063946</td>\n",
       "      <td>1.106940</td>\n",
       "      <td>1.0</td>\n",
       "      <td>1.00</td>\n",
       "      <td>2.0</td>\n",
       "      <td>3.00</td>\n",
       "      <td>5.0</td>\n",
       "    </tr>\n",
       "    <tr>\n",
       "      <th>JobSatisfaction</th>\n",
       "      <td>1470.0</td>\n",
       "      <td>2.728571</td>\n",
       "      <td>1.102846</td>\n",
       "      <td>1.0</td>\n",
       "      <td>2.00</td>\n",
       "      <td>3.0</td>\n",
       "      <td>4.00</td>\n",
       "      <td>4.0</td>\n",
       "    </tr>\n",
       "    <tr>\n",
       "      <th>MonthlyIncome</th>\n",
       "      <td>1470.0</td>\n",
       "      <td>6502.931293</td>\n",
       "      <td>4707.956783</td>\n",
       "      <td>1009.0</td>\n",
       "      <td>2911.00</td>\n",
       "      <td>4919.0</td>\n",
       "      <td>8379.00</td>\n",
       "      <td>19999.0</td>\n",
       "    </tr>\n",
       "    <tr>\n",
       "      <th>MonthlyRate</th>\n",
       "      <td>1470.0</td>\n",
       "      <td>14313.103401</td>\n",
       "      <td>7117.786044</td>\n",
       "      <td>2094.0</td>\n",
       "      <td>8047.00</td>\n",
       "      <td>14235.5</td>\n",
       "      <td>20461.50</td>\n",
       "      <td>26999.0</td>\n",
       "    </tr>\n",
       "    <tr>\n",
       "      <th>NumCompaniesWorked</th>\n",
       "      <td>1470.0</td>\n",
       "      <td>2.693197</td>\n",
       "      <td>2.498009</td>\n",
       "      <td>0.0</td>\n",
       "      <td>1.00</td>\n",
       "      <td>2.0</td>\n",
       "      <td>4.00</td>\n",
       "      <td>9.0</td>\n",
       "    </tr>\n",
       "    <tr>\n",
       "      <th>PercentSalaryHike</th>\n",
       "      <td>1470.0</td>\n",
       "      <td>15.209524</td>\n",
       "      <td>3.659938</td>\n",
       "      <td>11.0</td>\n",
       "      <td>12.00</td>\n",
       "      <td>14.0</td>\n",
       "      <td>18.00</td>\n",
       "      <td>25.0</td>\n",
       "    </tr>\n",
       "    <tr>\n",
       "      <th>PerformanceRating</th>\n",
       "      <td>1470.0</td>\n",
       "      <td>3.153741</td>\n",
       "      <td>0.360824</td>\n",
       "      <td>3.0</td>\n",
       "      <td>3.00</td>\n",
       "      <td>3.0</td>\n",
       "      <td>3.00</td>\n",
       "      <td>4.0</td>\n",
       "    </tr>\n",
       "    <tr>\n",
       "      <th>RelationshipSatisfaction</th>\n",
       "      <td>1470.0</td>\n",
       "      <td>2.712245</td>\n",
       "      <td>1.081209</td>\n",
       "      <td>1.0</td>\n",
       "      <td>2.00</td>\n",
       "      <td>3.0</td>\n",
       "      <td>4.00</td>\n",
       "      <td>4.0</td>\n",
       "    </tr>\n",
       "    <tr>\n",
       "      <th>StandardHours</th>\n",
       "      <td>1470.0</td>\n",
       "      <td>80.000000</td>\n",
       "      <td>0.000000</td>\n",
       "      <td>80.0</td>\n",
       "      <td>80.00</td>\n",
       "      <td>80.0</td>\n",
       "      <td>80.00</td>\n",
       "      <td>80.0</td>\n",
       "    </tr>\n",
       "    <tr>\n",
       "      <th>StockOptionLevel</th>\n",
       "      <td>1470.0</td>\n",
       "      <td>0.793878</td>\n",
       "      <td>0.852077</td>\n",
       "      <td>0.0</td>\n",
       "      <td>0.00</td>\n",
       "      <td>1.0</td>\n",
       "      <td>1.00</td>\n",
       "      <td>3.0</td>\n",
       "    </tr>\n",
       "    <tr>\n",
       "      <th>TotalWorkingYears</th>\n",
       "      <td>1470.0</td>\n",
       "      <td>11.279592</td>\n",
       "      <td>7.780782</td>\n",
       "      <td>0.0</td>\n",
       "      <td>6.00</td>\n",
       "      <td>10.0</td>\n",
       "      <td>15.00</td>\n",
       "      <td>40.0</td>\n",
       "    </tr>\n",
       "    <tr>\n",
       "      <th>TrainingTimesLastYear</th>\n",
       "      <td>1470.0</td>\n",
       "      <td>2.799320</td>\n",
       "      <td>1.289271</td>\n",
       "      <td>0.0</td>\n",
       "      <td>2.00</td>\n",
       "      <td>3.0</td>\n",
       "      <td>3.00</td>\n",
       "      <td>6.0</td>\n",
       "    </tr>\n",
       "    <tr>\n",
       "      <th>WorkLifeBalance</th>\n",
       "      <td>1470.0</td>\n",
       "      <td>2.761224</td>\n",
       "      <td>0.706476</td>\n",
       "      <td>1.0</td>\n",
       "      <td>2.00</td>\n",
       "      <td>3.0</td>\n",
       "      <td>3.00</td>\n",
       "      <td>4.0</td>\n",
       "    </tr>\n",
       "    <tr>\n",
       "      <th>YearsAtCompany</th>\n",
       "      <td>1470.0</td>\n",
       "      <td>7.008163</td>\n",
       "      <td>6.126525</td>\n",
       "      <td>0.0</td>\n",
       "      <td>3.00</td>\n",
       "      <td>5.0</td>\n",
       "      <td>9.00</td>\n",
       "      <td>40.0</td>\n",
       "    </tr>\n",
       "    <tr>\n",
       "      <th>YearsInCurrentRole</th>\n",
       "      <td>1470.0</td>\n",
       "      <td>4.229252</td>\n",
       "      <td>3.623137</td>\n",
       "      <td>0.0</td>\n",
       "      <td>2.00</td>\n",
       "      <td>3.0</td>\n",
       "      <td>7.00</td>\n",
       "      <td>18.0</td>\n",
       "    </tr>\n",
       "    <tr>\n",
       "      <th>YearsSinceLastPromotion</th>\n",
       "      <td>1470.0</td>\n",
       "      <td>2.187755</td>\n",
       "      <td>3.222430</td>\n",
       "      <td>0.0</td>\n",
       "      <td>0.00</td>\n",
       "      <td>1.0</td>\n",
       "      <td>3.00</td>\n",
       "      <td>15.0</td>\n",
       "    </tr>\n",
       "    <tr>\n",
       "      <th>YearsWithCurrManager</th>\n",
       "      <td>1470.0</td>\n",
       "      <td>4.123129</td>\n",
       "      <td>3.568136</td>\n",
       "      <td>0.0</td>\n",
       "      <td>2.00</td>\n",
       "      <td>3.0</td>\n",
       "      <td>7.00</td>\n",
       "      <td>17.0</td>\n",
       "    </tr>\n",
       "  </tbody>\n",
       "</table>\n",
       "</div>"
      ],
      "text/plain": [
       "                           count          mean          std     min      25%  \\\n",
       "DailyRate                 1470.0    802.485714   403.509100   102.0   465.00   \n",
       "DistanceFromHome          1470.0      9.192517     8.106864     1.0     2.00   \n",
       "Education                 1470.0      2.912925     1.024165     1.0     2.00   \n",
       "EmployeeCount             1470.0      1.000000     0.000000     1.0     1.00   \n",
       "EmployeeNumber            1470.0   1024.865306   602.024335     1.0   491.25   \n",
       "EnvironmentSatisfaction   1470.0      2.721769     1.093082     1.0     2.00   \n",
       "HourlyRate                1470.0     65.891156    20.329428    30.0    48.00   \n",
       "JobInvolvement            1470.0      2.729932     0.711561     1.0     2.00   \n",
       "JobLevel                  1470.0      2.063946     1.106940     1.0     1.00   \n",
       "JobSatisfaction           1470.0      2.728571     1.102846     1.0     2.00   \n",
       "MonthlyIncome             1470.0   6502.931293  4707.956783  1009.0  2911.00   \n",
       "MonthlyRate               1470.0  14313.103401  7117.786044  2094.0  8047.00   \n",
       "NumCompaniesWorked        1470.0      2.693197     2.498009     0.0     1.00   \n",
       "PercentSalaryHike         1470.0     15.209524     3.659938    11.0    12.00   \n",
       "PerformanceRating         1470.0      3.153741     0.360824     3.0     3.00   \n",
       "RelationshipSatisfaction  1470.0      2.712245     1.081209     1.0     2.00   \n",
       "StandardHours             1470.0     80.000000     0.000000    80.0    80.00   \n",
       "StockOptionLevel          1470.0      0.793878     0.852077     0.0     0.00   \n",
       "TotalWorkingYears         1470.0     11.279592     7.780782     0.0     6.00   \n",
       "TrainingTimesLastYear     1470.0      2.799320     1.289271     0.0     2.00   \n",
       "WorkLifeBalance           1470.0      2.761224     0.706476     1.0     2.00   \n",
       "YearsAtCompany            1470.0      7.008163     6.126525     0.0     3.00   \n",
       "YearsInCurrentRole        1470.0      4.229252     3.623137     0.0     2.00   \n",
       "YearsSinceLastPromotion   1470.0      2.187755     3.222430     0.0     0.00   \n",
       "YearsWithCurrManager      1470.0      4.123129     3.568136     0.0     2.00   \n",
       "\n",
       "                              50%       75%      max  \n",
       "DailyRate                   802.0   1157.00   1499.0  \n",
       "DistanceFromHome              7.0     14.00     29.0  \n",
       "Education                     3.0      4.00      5.0  \n",
       "EmployeeCount                 1.0      1.00      1.0  \n",
       "EmployeeNumber             1020.5   1555.75   2068.0  \n",
       "EnvironmentSatisfaction       3.0      4.00      4.0  \n",
       "HourlyRate                   66.0     83.75    100.0  \n",
       "JobInvolvement                3.0      3.00      4.0  \n",
       "JobLevel                      2.0      3.00      5.0  \n",
       "JobSatisfaction               3.0      4.00      4.0  \n",
       "MonthlyIncome              4919.0   8379.00  19999.0  \n",
       "MonthlyRate               14235.5  20461.50  26999.0  \n",
       "NumCompaniesWorked            2.0      4.00      9.0  \n",
       "PercentSalaryHike            14.0     18.00     25.0  \n",
       "PerformanceRating             3.0      3.00      4.0  \n",
       "RelationshipSatisfaction      3.0      4.00      4.0  \n",
       "StandardHours                80.0     80.00     80.0  \n",
       "StockOptionLevel              1.0      1.00      3.0  \n",
       "TotalWorkingYears            10.0     15.00     40.0  \n",
       "TrainingTimesLastYear         3.0      3.00      6.0  \n",
       "WorkLifeBalance               3.0      3.00      4.0  \n",
       "YearsAtCompany                5.0      9.00     40.0  \n",
       "YearsInCurrentRole            3.0      7.00     18.0  \n",
       "YearsSinceLastPromotion       1.0      3.00     15.0  \n",
       "YearsWithCurrManager          3.0      7.00     17.0  "
      ]
     },
     "execution_count": 317,
     "metadata": {},
     "output_type": "execute_result"
    }
   ],
   "source": [
    "ibm.describe().transpose()"
   ]
  },
  {
   "cell_type": "code",
   "execution_count": 325,
   "metadata": {},
   "outputs": [
    {
     "name": "stdout",
     "output_type": "stream",
     "text": [
      "<class 'pandas.core.frame.DataFrame'>\n",
      "Int64Index: 1470 entries, 41 to 34\n",
      "Data columns (total 55 columns):\n",
      " #   Column                             Non-Null Count  Dtype\n",
      "---  ------                             --------------  -----\n",
      " 0   Attrition                          1470 non-null   int64\n",
      " 1   DailyRate                          1470 non-null   int64\n",
      " 2   DistanceFromHome                   1470 non-null   int64\n",
      " 3   Education                          1470 non-null   int64\n",
      " 4   EmployeeCount                      1470 non-null   int64\n",
      " 5   EmployeeNumber                     1470 non-null   int64\n",
      " 6   EnvironmentSatisfaction            1470 non-null   int64\n",
      " 7   HourlyRate                         1470 non-null   int64\n",
      " 8   JobInvolvement                     1470 non-null   int64\n",
      " 9   JobLevel                           1470 non-null   int64\n",
      " 10  JobSatisfaction                    1470 non-null   int64\n",
      " 11  MonthlyIncome                      1470 non-null   int64\n",
      " 12  MonthlyRate                        1470 non-null   int64\n",
      " 13  NumCompaniesWorked                 1470 non-null   int64\n",
      " 14  PercentSalaryHike                  1470 non-null   int64\n",
      " 15  PerformanceRating                  1470 non-null   int64\n",
      " 16  RelationshipSatisfaction           1470 non-null   int64\n",
      " 17  StandardHours                      1470 non-null   int64\n",
      " 18  StockOptionLevel                   1470 non-null   int64\n",
      " 19  TotalWorkingYears                  1470 non-null   int64\n",
      " 20  TrainingTimesLastYear              1470 non-null   int64\n",
      " 21  WorkLifeBalance                    1470 non-null   int64\n",
      " 22  YearsAtCompany                     1470 non-null   int64\n",
      " 23  YearsInCurrentRole                 1470 non-null   int64\n",
      " 24  YearsSinceLastPromotion            1470 non-null   int64\n",
      " 25  YearsWithCurrManager               1470 non-null   int64\n",
      " 26  BusinessTravel_Frequently          1470 non-null   uint8\n",
      " 27  BusinessTravel_Never               1470 non-null   uint8\n",
      " 28  BusinessTravel_Rarely              1470 non-null   uint8\n",
      " 29  Department_Human Resources         1470 non-null   uint8\n",
      " 30  Department_Research & Development  1470 non-null   uint8\n",
      " 31  Department_Sales                   1470 non-null   uint8\n",
      " 32  EducationField_Human Resources     1470 non-null   uint8\n",
      " 33  EducationField_Life Sciences       1470 non-null   uint8\n",
      " 34  EducationField_Marketing           1470 non-null   uint8\n",
      " 35  EducationField_Medical             1470 non-null   uint8\n",
      " 36  EducationField_Other               1470 non-null   uint8\n",
      " 37  EducationField_Technical Degree    1470 non-null   uint8\n",
      " 38  Gender_Female                      1470 non-null   uint8\n",
      " 39  Gender_Male                        1470 non-null   uint8\n",
      " 40  JobRole_Healthcare Representative  1470 non-null   uint8\n",
      " 41  JobRole_Human Resources            1470 non-null   uint8\n",
      " 42  JobRole_Laboratory Technician      1470 non-null   uint8\n",
      " 43  JobRole_Manager                    1470 non-null   uint8\n",
      " 44  JobRole_Manufacturing Director     1470 non-null   uint8\n",
      " 45  JobRole_Research Director          1470 non-null   uint8\n",
      " 46  JobRole_Research Scientist         1470 non-null   uint8\n",
      " 47  JobRole_Sales Executive            1470 non-null   uint8\n",
      " 48  JobRole_Sales Representative       1470 non-null   uint8\n",
      " 49  MaritalStatus_Divorced             1470 non-null   uint8\n",
      " 50  MaritalStatus_Married              1470 non-null   uint8\n",
      " 51  MaritalStatus_Single               1470 non-null   uint8\n",
      " 52  Over18_Y                           1470 non-null   uint8\n",
      " 53  OverTime_No                        1470 non-null   uint8\n",
      " 54  OverTime_Yes                       1470 non-null   uint8\n",
      "dtypes: int64(26), uint8(29)\n",
      "memory usage: 351.7 KB\n"
     ]
    },
    {
     "name": "stderr",
     "output_type": "stream",
     "text": [
      "<ipython-input-325-49d3926c740b>:6: SettingWithCopyWarning: \n",
      "A value is trying to be set on a copy of a slice from a DataFrame\n",
      "\n",
      "See the caveats in the documentation: https://pandas.pydata.org/pandas-docs/stable/user_guide/indexing.html#returning-a-view-versus-a-copy\n",
      "  ibm['BusinessTravel'][ibm['BusinessTravel'] == 'Non-Travel'] = 'Never'\n",
      "<ipython-input-325-49d3926c740b>:7: SettingWithCopyWarning: \n",
      "A value is trying to be set on a copy of a slice from a DataFrame\n",
      "\n",
      "See the caveats in the documentation: https://pandas.pydata.org/pandas-docs/stable/user_guide/indexing.html#returning-a-view-versus-a-copy\n",
      "  ibm['BusinessTravel'][ibm['BusinessTravel'] == 'Travel_Rarely'] = 'Rarely'\n",
      "<ipython-input-325-49d3926c740b>:8: SettingWithCopyWarning: \n",
      "A value is trying to be set on a copy of a slice from a DataFrame\n",
      "\n",
      "See the caveats in the documentation: https://pandas.pydata.org/pandas-docs/stable/user_guide/indexing.html#returning-a-view-versus-a-copy\n",
      "  ibm['BusinessTravel'][ibm['BusinessTravel'] == 'Travel_Frequently'] = 'Frequently'\n"
     ]
    }
   ],
   "source": [
    "# Change data types for categorical variables\n",
    "# Dummy code categorical features\n",
    "\n",
    "#  Recoding \n",
    "\n",
    "ibm['BusinessTravel'][ibm['BusinessTravel'] == 'Non-Travel'] = 'Never'\n",
    "ibm['BusinessTravel'][ibm['BusinessTravel'] == 'Travel_Rarely'] = 'Rarely'\n",
    "ibm['BusinessTravel'][ibm['BusinessTravel'] == 'Travel_Frequently'] = 'Frequently'\n",
    "\n",
    "\n",
    "\n",
    "ibm['Attrition'].replace('No',0,inplace=True)\n",
    "ibm['Attrition'].replace('Yes',1,inplace=True)\n",
    "\n",
    "ibm = pd.get_dummies(ibm)\n",
    "\n",
    "ibm.info()"
   ]
  },
  {
   "cell_type": "code",
   "execution_count": 326,
   "metadata": {
    "nteract": {
     "transient": {
      "deleting": false
     }
    }
   },
   "outputs": [
    {
     "name": "stdout",
     "output_type": "stream",
     "text": [
      "0.16122448979591836\n"
     ]
    },
    {
     "data": {
      "text/plain": [
       "<matplotlib.axes._subplots.AxesSubplot at 0x7fd95e095d60>"
      ]
     },
     "execution_count": 326,
     "metadata": {},
     "output_type": "execute_result"
    },
    {
     "data": {
      "image/png": "[encoded data removed]",
      "text/plain": [
       "<Figure size 432x288 with 1 Axes>"
      ]
     },
     "metadata": {
      "needs_background": "light"
     },
     "output_type": "display_data"
    }
   ],
   "source": [
    "# Accessing target varaible distribution\n",
    "\n",
    "print(ibm['Attrition'].mean())\n",
    "ibm['Attrition'].hist(xrot=45.0)"
   ]
  },
  {
   "cell_type": "code",
   "execution_count": null,
   "metadata": {
    "collapsed": false,
    "jupyter": {
     "outputs_hidden": false,
     "source_hidden": false
    },
    "nteract": {
     "transient": {
      "deleting": false
     }
    },
    "tags": []
   },
   "outputs": [],
   "source": [
    "# Pair Plot\n",
    "\n",
    "from IPython.display import Image\n",
    "import seaborn as sns\n",
    "import matplotlib.pyplot as plt \n",
    "\n",
    "sns_plot = sns.pairplot(ibm, hue = 'Attrition')\n",
    "sns_plot.savefig(\"pairplot.png\")\n",
    "\n",
    "plt.clf() # Clean parirplot figure from sns \n",
    "\n",
    "Image(filename='pairplot.png') # Show pairplot as image"
   ]
  },
  {
   "cell_type": "code",
   "execution_count": 327,
   "metadata": {},
   "outputs": [
    {
     "data": {
      "text/plain": [
       "<matplotlib.axes._subplots.AxesSubplot at 0x7fd94b396a00>"
      ]
     },
     "execution_count": 327,
     "metadata": {},
     "output_type": "execute_result"
    },
    {
     "data": {
      "image/png": "[encoded data removed]",
      "text/plain": [
       "<Figure size 432x288 with 2 Axes>"
      ]
     },
     "metadata": {
      "needs_background": "light"
     },
     "output_type": "display_data"
    }
   ],
   "source": [
    "# Correlation Analysis \n",
    "\n",
    "sns.heatmap(ibm.corr(), cmap=\"Spectral\")"
   ]
  },
  {
   "cell_type": "code",
   "execution_count": 328,
   "metadata": {
    "nteract": {
     "transient": {
      "deleting": false
     }
    }
   },
   "outputs": [
    {
     "data": {
      "text/plain": [
       "Attrition                            1.000000\n",
       "OverTime_Yes                         0.246118\n",
       "MaritalStatus_Single                 0.175419\n",
       "JobRole_Sales Representative         0.157234\n",
       "BusinessTravel_Frequently            0.115143\n",
       "JobRole_Laboratory Technician        0.098290\n",
       "Department_Sales                     0.080855\n",
       "DistanceFromHome                     0.077924\n",
       "EducationField_Technical Degree      0.069355\n",
       "EducationField_Marketing             0.055781\n",
       "NumCompaniesWorked                   0.043494\n",
       "EducationField_Human Resources       0.036466\n",
       "JobRole_Human Resources              0.036215\n",
       "Gender_Male                          0.029453\n",
       "JobRole_Sales Executive              0.019774\n",
       "Department_Human Resources           0.016832\n",
       "MonthlyRate                          0.015170\n",
       "PerformanceRating                    0.002889\n",
       "JobRole_Research Scientist          -0.000360\n",
       "HourlyRate                          -0.006846\n",
       "EmployeeNumber                      -0.010577\n",
       "PercentSalaryHike                   -0.013478\n",
       "EducationField_Other                -0.017898\n",
       "Gender_Female                       -0.029453\n",
       "Education                           -0.031373\n",
       "EducationField_Life Sciences        -0.032703\n",
       "YearsSinceLastPromotion             -0.033019\n",
       "RelationshipSatisfaction            -0.045872\n",
       "EducationField_Medical              -0.046999\n",
       "BusinessTravel_Rarely               -0.049538\n",
       "DailyRate                           -0.056652\n",
       "TrainingTimesLastYear               -0.059478\n",
       "WorkLifeBalance                     -0.063939\n",
       "BusinessTravel_Never                -0.074457\n",
       "JobRole_Healthcare Representative   -0.078696\n",
       "JobRole_Manufacturing Director      -0.082994\n",
       "JobRole_Manager                     -0.083316\n",
       "Department_Research & Development   -0.085293\n",
       "MaritalStatus_Divorced              -0.087716\n",
       "JobRole_Research Director           -0.088870\n",
       "MaritalStatus_Married               -0.090984\n",
       "EnvironmentSatisfaction             -0.103369\n",
       "JobSatisfaction                     -0.103481\n",
       "JobInvolvement                      -0.130016\n",
       "YearsAtCompany                      -0.134392\n",
       "StockOptionLevel                    -0.137145\n",
       "YearsWithCurrManager                -0.156199\n",
       "MonthlyIncome                       -0.159840\n",
       "YearsInCurrentRole                  -0.160545\n",
       "JobLevel                            -0.169105\n",
       "TotalWorkingYears                   -0.171063\n",
       "OverTime_No                         -0.246118\n",
       "EmployeeCount                             NaN\n",
       "StandardHours                             NaN\n",
       "Over18_Y                                  NaN\n",
       "Name: Attrition, dtype: float64"
      ]
     },
     "execution_count": 328,
     "metadata": {},
     "output_type": "execute_result"
    }
   ],
   "source": [
    "# Correlation Analysis \n",
    "\n",
    "ibm.corr()['Attrition'].sort_values(ascending=False)"
   ]
  },
  {
   "cell_type": "markdown",
   "metadata": {
    "colab_type": "text",
    "id": "fm55yhmByrlB"
   },
   "source": [
    "4. Pre-process the dataset\n",
    "5. Split the data into training/test datasets (70/30)\n",
    "\n",
    "4 pts."
   ]
  },
  {
   "cell_type": "code",
   "execution_count": 329,
   "metadata": {
    "colab": {},
    "colab_type": "code",
    "id": "rsn4UeQhHiIq"
   },
   "outputs": [],
   "source": [
    "#Dropping variables\n",
    "\n",
    "# ibm.drop(['Over18_Y'], axis=1, inplace=True)\n",
    "# ibm.drop(['EmployeeCount'], axis=1, inplace=True)\n",
    "# ibm.drop(['StandardHours'], axis=1, inplace=True)\n",
    "\n",
    "# Preparing features and labels\n",
    "\n",
    "X = ibm.drop('Attrition',axis=1).values\n",
    "y = ibm['Attrition'].values\n"
   ]
  },
  {
   "cell_type": "code",
   "execution_count": 330,
   "metadata": {},
   "outputs": [],
   "source": [
    "from sklearn.model_selection import train_test_split\n",
    "\n",
    "X_train, X_test, y_train, y_test = train_test_split(X,y,test_size=0.3,random_state=1)"
   ]
  },
  {
   "cell_type": "code",
   "execution_count": 331,
   "metadata": {},
   "outputs": [],
   "source": [
    "from sklearn.preprocessing import MinMaxScaler\n",
    "\n",
    "scaler = MinMaxScaler()\n",
    "scaler.fit(X_train)\n",
    "\n",
    "X_train = scaler.transform(X_train)\n",
    "X_test = scaler.transform(X_test)"
   ]
  },
  {
   "cell_type": "markdown",
   "metadata": {
    "colab_type": "text",
    "id": "VI7ZKbZyzV3G"
   },
   "source": [
    "6. Build a sequential neural network with the following parameters: 3 hidden dense layers - 100, 50, 25 nodes respectively, activation function = 'relu', dropout = 0.5 for each layer).\n",
    "7. Use early stopping callback to prevent overfitting.\n",
    "\n"
   ]
  },
  {
   "cell_type": "code",
   "execution_count": 332,
   "metadata": {
    "colab": {},
    "colab_type": "code",
    "id": "JXn7LVBcHjYB"
   },
   "outputs": [],
   "source": [
    "import tensorflow as tf\n",
    "from tensorflow.keras.models import Sequential\n",
    "from tensorflow.keras.layers import Dense,Activation,Dropout"
   ]
  },
  {
   "cell_type": "code",
   "execution_count": 357,
   "metadata": {},
   "outputs": [],
   "source": [
    "model = Sequential()\n",
    "\n",
    "model.add(Dense(units=100,activation='relu'))\n",
    "model.add(Dense(units=50,activation='relu'))\n",
    "model.add(Dense(units=25,activation='relu'))\n",
    "model.add(Dense(units=1,activation='sigmoid'))\n",
    "# For a binary classification problem\n",
    "model.compile(loss='binary_crossentropy', optimizer='adam')"
   ]
  },
  {
   "cell_type": "code",
   "execution_count": 358,
   "metadata": {},
   "outputs": [
    {
     "name": "stdout",
     "output_type": "stream",
     "text": [
      "Epoch 1/100\n",
      "9/9 [==============================] - 0s 12ms/step - loss: 0.6206 - val_loss: 0.5047\n",
      "Epoch 2/100\n",
      "9/9 [==============================] - 0s 3ms/step - loss: 0.4449 - val_loss: 0.4384\n",
      "Epoch 3/100\n",
      "9/9 [==============================] - 0s 3ms/step - loss: 0.4050 - val_loss: 0.4446\n",
      "Epoch 4/100\n",
      "9/9 [==============================] - 0s 3ms/step - loss: 0.3983 - val_loss: 0.4251\n",
      "Epoch 5/100\n",
      "9/9 [==============================] - 0s 3ms/step - loss: 0.3836 - val_loss: 0.4141\n",
      "Epoch 6/100\n",
      "9/9 [==============================] - 0s 3ms/step - loss: 0.3731 - val_loss: 0.4061\n",
      "Epoch 7/100\n",
      "9/9 [==============================] - 0s 3ms/step - loss: 0.3626 - val_loss: 0.3982\n",
      "Epoch 8/100\n",
      "9/9 [==============================] - 0s 3ms/step - loss: 0.3526 - val_loss: 0.3913\n",
      "Epoch 9/100\n",
      "9/9 [==============================] - 0s 3ms/step - loss: 0.3477 - val_loss: 0.3883\n",
      "Epoch 10/100\n",
      "9/9 [==============================] - 0s 3ms/step - loss: 0.3405 - val_loss: 0.3834\n",
      "Epoch 11/100\n",
      "9/9 [==============================] - 0s 3ms/step - loss: 0.3309 - val_loss: 0.3811\n",
      "Epoch 12/100\n",
      "9/9 [==============================] - 0s 3ms/step - loss: 0.3244 - val_loss: 0.3764\n",
      "Epoch 13/100\n",
      "9/9 [==============================] - 0s 3ms/step - loss: 0.3172 - val_loss: 0.3693\n",
      "Epoch 14/100\n",
      "9/9 [==============================] - 0s 3ms/step - loss: 0.3106 - val_loss: 0.3662\n",
      "Epoch 15/100\n",
      "9/9 [==============================] - 0s 3ms/step - loss: 0.3052 - val_loss: 0.3653\n",
      "Epoch 16/100\n",
      "9/9 [==============================] - 0s 3ms/step - loss: 0.3029 - val_loss: 0.3638\n",
      "Epoch 17/100\n",
      "9/9 [==============================] - 0s 3ms/step - loss: 0.2909 - val_loss: 0.3721\n",
      "Epoch 18/100\n",
      "9/9 [==============================] - 0s 3ms/step - loss: 0.2907 - val_loss: 0.3616\n",
      "Epoch 19/100\n",
      "9/9 [==============================] - 0s 3ms/step - loss: 0.2842 - val_loss: 0.3607\n",
      "Epoch 20/100\n",
      "9/9 [==============================] - 0s 3ms/step - loss: 0.2771 - val_loss: 0.3579\n",
      "Epoch 21/100\n",
      "9/9 [==============================] - 0s 3ms/step - loss: 0.2752 - val_loss: 0.3539\n",
      "Epoch 22/100\n",
      "9/9 [==============================] - 0s 3ms/step - loss: 0.2652 - val_loss: 0.3531\n",
      "Epoch 23/100\n",
      "9/9 [==============================] - 0s 3ms/step - loss: 0.2608 - val_loss: 0.3564\n",
      "Epoch 24/100\n",
      "9/9 [==============================] - 0s 3ms/step - loss: 0.2539 - val_loss: 0.3599\n",
      "Epoch 25/100\n",
      "9/9 [==============================] - 0s 3ms/step - loss: 0.2473 - val_loss: 0.3608\n",
      "Epoch 26/100\n",
      "9/9 [==============================] - 0s 3ms/step - loss: 0.2405 - val_loss: 0.3678\n",
      "Epoch 27/100\n",
      "9/9 [==============================] - 0s 3ms/step - loss: 0.2359 - val_loss: 0.3690\n",
      "Epoch 28/100\n",
      "9/9 [==============================] - 0s 3ms/step - loss: 0.2277 - val_loss: 0.3771\n",
      "Epoch 29/100\n",
      "9/9 [==============================] - 0s 3ms/step - loss: 0.2231 - val_loss: 0.3824\n",
      "Epoch 30/100\n",
      "9/9 [==============================] - 0s 3ms/step - loss: 0.2197 - val_loss: 0.3811\n",
      "Epoch 31/100\n",
      "9/9 [==============================] - 0s 3ms/step - loss: 0.2226 - val_loss: 0.3844\n",
      "Epoch 32/100\n",
      "9/9 [==============================] - 0s 3ms/step - loss: 0.2107 - val_loss: 0.3866\n",
      "Epoch 33/100\n",
      "9/9 [==============================] - 0s 3ms/step - loss: 0.2250 - val_loss: 0.3812\n",
      "Epoch 34/100\n",
      "9/9 [==============================] - 0s 3ms/step - loss: 0.2045 - val_loss: 0.3840\n",
      "Epoch 35/100\n",
      "9/9 [==============================] - 0s 3ms/step - loss: 0.1992 - val_loss: 0.3831\n",
      "Epoch 36/100\n",
      "9/9 [==============================] - 0s 3ms/step - loss: 0.1838 - val_loss: 0.3894\n",
      "Epoch 37/100\n",
      "9/9 [==============================] - 0s 3ms/step - loss: 0.1763 - val_loss: 0.3945\n",
      "Epoch 38/100\n",
      "9/9 [==============================] - 0s 3ms/step - loss: 0.1669 - val_loss: 0.4016\n",
      "Epoch 39/100\n",
      "9/9 [==============================] - 0s 3ms/step - loss: 0.1650 - val_loss: 0.4206\n",
      "Epoch 40/100\n",
      "9/9 [==============================] - 0s 3ms/step - loss: 0.1835 - val_loss: 0.4356\n",
      "Epoch 41/100\n",
      "9/9 [==============================] - 0s 3ms/step - loss: 0.1779 - val_loss: 0.4149\n",
      "Epoch 42/100\n",
      "9/9 [==============================] - 0s 3ms/step - loss: 0.1619 - val_loss: 0.4220\n",
      "Epoch 43/100\n",
      "9/9 [==============================] - 0s 3ms/step - loss: 0.1497 - val_loss: 0.4221\n",
      "Epoch 44/100\n",
      "9/9 [==============================] - 0s 3ms/step - loss: 0.1370 - val_loss: 0.4334\n",
      "Epoch 45/100\n",
      "9/9 [==============================] - 0s 3ms/step - loss: 0.1302 - val_loss: 0.4387\n",
      "Epoch 46/100\n",
      "9/9 [==============================] - 0s 3ms/step - loss: 0.1272 - val_loss: 0.4537\n",
      "Epoch 47/100\n",
      "9/9 [==============================] - 0s 3ms/step - loss: 0.1227 - val_loss: 0.4525\n",
      "Epoch 48/100\n",
      "9/9 [==============================] - 0s 3ms/step - loss: 0.1267 - val_loss: 0.4700\n",
      "Epoch 49/100\n",
      "9/9 [==============================] - 0s 3ms/step - loss: 0.1329 - val_loss: 0.4683\n",
      "Epoch 50/100\n",
      "9/9 [==============================] - 0s 3ms/step - loss: 0.1184 - val_loss: 0.4694\n",
      "Epoch 51/100\n",
      "9/9 [==============================] - 0s 3ms/step - loss: 0.1062 - val_loss: 0.4899\n",
      "Epoch 52/100\n",
      "9/9 [==============================] - 0s 3ms/step - loss: 0.1023 - val_loss: 0.4893\n",
      "Epoch 53/100\n",
      "9/9 [==============================] - 0s 3ms/step - loss: 0.0938 - val_loss: 0.4954\n",
      "Epoch 54/100\n",
      "9/9 [==============================] - 0s 3ms/step - loss: 0.0992 - val_loss: 0.5353\n",
      "Epoch 55/100\n",
      "9/9 [==============================] - 0s 3ms/step - loss: 0.1150 - val_loss: 0.5232\n",
      "Epoch 56/100\n",
      "9/9 [==============================] - 0s 3ms/step - loss: 0.0961 - val_loss: 0.5228\n",
      "Epoch 57/100\n",
      "9/9 [==============================] - 0s 3ms/step - loss: 0.0902 - val_loss: 0.5294\n",
      "Epoch 58/100\n",
      "9/9 [==============================] - 0s 3ms/step - loss: 0.0895 - val_loss: 0.5398\n",
      "Epoch 59/100\n",
      "9/9 [==============================] - 0s 3ms/step - loss: 0.0790 - val_loss: 0.5374\n",
      "Epoch 60/100\n",
      "9/9 [==============================] - 0s 3ms/step - loss: 0.0809 - val_loss: 0.5736\n",
      "Epoch 61/100\n",
      "9/9 [==============================] - 0s 3ms/step - loss: 0.0799 - val_loss: 0.5639\n",
      "Epoch 62/100\n",
      "9/9 [==============================] - 0s 3ms/step - loss: 0.0785 - val_loss: 0.5815\n",
      "Epoch 63/100\n",
      "9/9 [==============================] - 0s 3ms/step - loss: 0.0748 - val_loss: 0.5737\n",
      "Epoch 64/100\n",
      "9/9 [==============================] - 0s 3ms/step - loss: 0.0630 - val_loss: 0.5816\n",
      "Epoch 65/100\n",
      "9/9 [==============================] - 0s 3ms/step - loss: 0.0624 - val_loss: 0.6182\n",
      "Epoch 66/100\n",
      "9/9 [==============================] - 0s 3ms/step - loss: 0.0741 - val_loss: 0.6116\n",
      "Epoch 67/100\n",
      "9/9 [==============================] - 0s 3ms/step - loss: 0.0582 - val_loss: 0.6305\n",
      "Epoch 68/100\n",
      "9/9 [==============================] - 0s 3ms/step - loss: 0.0543 - val_loss: 0.6173\n",
      "Epoch 69/100\n",
      "9/9 [==============================] - 0s 3ms/step - loss: 0.0471 - val_loss: 0.6169\n",
      "Epoch 70/100\n",
      "9/9 [==============================] - 0s 3ms/step - loss: 0.0462 - val_loss: 0.6218\n",
      "Epoch 71/100\n",
      "9/9 [==============================] - 0s 3ms/step - loss: 0.0402 - val_loss: 0.6338\n",
      "Epoch 72/100\n",
      "9/9 [==============================] - 0s 3ms/step - loss: 0.0377 - val_loss: 0.6504\n",
      "Epoch 73/100\n",
      "9/9 [==============================] - 0s 3ms/step - loss: 0.0347 - val_loss: 0.6626\n",
      "Epoch 74/100\n",
      "9/9 [==============================] - 0s 3ms/step - loss: 0.0321 - val_loss: 0.6754\n",
      "Epoch 75/100\n",
      "9/9 [==============================] - 0s 3ms/step - loss: 0.0305 - val_loss: 0.6815\n",
      "Epoch 76/100\n",
      "9/9 [==============================] - 0s 3ms/step - loss: 0.0293 - val_loss: 0.6959\n",
      "Epoch 77/100\n",
      "9/9 [==============================] - 0s 3ms/step - loss: 0.0286 - val_loss: 0.7075\n",
      "Epoch 78/100\n",
      "9/9 [==============================] - 0s 3ms/step - loss: 0.0294 - val_loss: 0.7130\n",
      "Epoch 79/100\n",
      "9/9 [==============================] - 0s 3ms/step - loss: 0.0269 - val_loss: 0.7256\n",
      "Epoch 80/100\n",
      "9/9 [==============================] - 0s 3ms/step - loss: 0.0238 - val_loss: 0.7345\n",
      "Epoch 81/100\n",
      "9/9 [==============================] - 0s 3ms/step - loss: 0.0243 - val_loss: 0.7529\n",
      "Epoch 82/100\n",
      "9/9 [==============================] - 0s 3ms/step - loss: 0.0249 - val_loss: 0.7595\n",
      "Epoch 83/100\n",
      "9/9 [==============================] - 0s 3ms/step - loss: 0.0211 - val_loss: 0.7841\n",
      "Epoch 84/100\n",
      "9/9 [==============================] - 0s 3ms/step - loss: 0.0224 - val_loss: 0.7887\n",
      "Epoch 85/100\n",
      "9/9 [==============================] - 0s 3ms/step - loss: 0.0224 - val_loss: 0.8029\n",
      "Epoch 86/100\n",
      "9/9 [==============================] - 0s 3ms/step - loss: 0.0199 - val_loss: 0.7925\n",
      "Epoch 87/100\n",
      "9/9 [==============================] - 0s 3ms/step - loss: 0.0164 - val_loss: 0.8088\n",
      "Epoch 88/100\n",
      "9/9 [==============================] - 0s 3ms/step - loss: 0.0166 - val_loss: 0.8126\n",
      "Epoch 89/100\n",
      "9/9 [==============================] - 0s 3ms/step - loss: 0.0137 - val_loss: 0.8208\n",
      "Epoch 90/100\n",
      "9/9 [==============================] - 0s 3ms/step - loss: 0.0135 - val_loss: 0.8228\n",
      "Epoch 91/100\n",
      "9/9 [==============================] - 0s 3ms/step - loss: 0.0130 - val_loss: 0.8390\n",
      "Epoch 92/100\n",
      "9/9 [==============================] - 0s 3ms/step - loss: 0.0119 - val_loss: 0.8557\n",
      "Epoch 93/100\n",
      "9/9 [==============================] - 0s 3ms/step - loss: 0.0110 - val_loss: 0.8705\n",
      "Epoch 94/100\n",
      "9/9 [==============================] - 0s 3ms/step - loss: 0.0113 - val_loss: 0.8725\n",
      "Epoch 95/100\n",
      "9/9 [==============================] - 0s 3ms/step - loss: 0.0107 - val_loss: 0.8759\n",
      "Epoch 96/100\n",
      "9/9 [==============================] - 0s 3ms/step - loss: 0.0097 - val_loss: 0.8829\n",
      "Epoch 97/100\n",
      "9/9 [==============================] - 0s 3ms/step - loss: 0.0088 - val_loss: 0.8968\n",
      "Epoch 98/100\n",
      "9/9 [==============================] - 0s 3ms/step - loss: 0.0098 - val_loss: 0.9060\n",
      "Epoch 99/100\n",
      "9/9 [==============================] - 0s 3ms/step - loss: 0.0090 - val_loss: 0.9155\n",
      "Epoch 100/100\n",
      "9/9 [==============================] - 0s 3ms/step - loss: 0.0079 - val_loss: 0.9204\n"
     ]
    },
    {
     "data": {
      "text/plain": [
       "<tensorflow.python.keras.callbacks.History at 0x7fd961e6b4f0>"
      ]
     },
     "execution_count": 358,
     "metadata": {},
     "output_type": "execute_result"
    }
   ],
   "source": [
    "model.fit(x=X_train, \n",
    "          y=y_train,\n",
    "          batch_size=128, \n",
    "          epochs=100,\n",
    "          validation_data=(X_test, y_test), verbose=1\n",
    "          )"
   ]
  },
  {
   "cell_type": "markdown",
   "metadata": {},
   "source": [
    "8. Plot training and validation losses versus epochs.\n",
    "9. Print out model confusion matrix.\n",
    "10. Print out model classification report.\n",
    "11. Print out model ROC AUC.\n",
    "\n"
   ]
  },
  {
   "cell_type": "code",
   "execution_count": 359,
   "metadata": {},
   "outputs": [
    {
     "data": {
      "text/plain": [
       "<matplotlib.axes._subplots.AxesSubplot at 0x7fd961f61130>"
      ]
     },
     "execution_count": 359,
     "metadata": {},
     "output_type": "execute_result"
    },
    {
     "data": {
      "image/png": "[encoded data removed]",
      "text/plain": [
       "<Figure size 432x288 with 1 Axes>"
      ]
     },
     "metadata": {
      "needs_background": "light"
     },
     "output_type": "display_data"
    }
   ],
   "source": [
    "model_loss = pd.DataFrame(model.history.history)\n",
    "model_loss.plot()"
   ]
  },
  {
   "cell_type": "code",
   "execution_count": 360,
   "metadata": {},
   "outputs": [],
   "source": [
    "# with Dropout\n",
    "\n",
    "from tensorflow.keras.layers import Dropout\n",
    "\n",
    "model = Sequential()\n",
    "model.add(Dense(units=100,activation='relu'))\n",
    "model.add(Dropout(0.5))\n",
    "\n",
    "model.add(Dense(units=50,activation='relu'))\n",
    "model.add(Dropout(0.5))\n",
    "\n",
    "model.add(Dense(units=25,activation='relu'))\n",
    "model.add(Dropout(0.5))\n",
    "\n",
    "model.add(Dense(units=1,activation='sigmoid'))\n",
    "\n",
    "model.compile(loss='binary_crossentropy', optimizer='adam')"
   ]
  },
  {
   "cell_type": "code",
   "execution_count": 361,
   "metadata": {},
   "outputs": [
    {
     "name": "stdout",
     "output_type": "stream",
     "text": [
      "Epoch 1/200\n",
      "9/9 [==============================] - 0s 11ms/step - loss: 0.6368 - val_loss: 0.4970\n",
      "Epoch 2/200\n",
      "9/9 [==============================] - 0s 3ms/step - loss: 0.5146 - val_loss: 0.4447\n",
      "Epoch 3/200\n",
      "9/9 [==============================] - 0s 3ms/step - loss: 0.4929 - val_loss: 0.4389\n",
      "Epoch 4/200\n",
      "9/9 [==============================] - 0s 3ms/step - loss: 0.5047 - val_loss: 0.4339\n",
      "Epoch 5/200\n",
      "9/9 [==============================] - 0s 3ms/step - loss: 0.4842 - val_loss: 0.4270\n",
      "Epoch 6/200\n",
      "9/9 [==============================] - 0s 3ms/step - loss: 0.4566 - val_loss: 0.4215\n",
      "Epoch 7/200\n",
      "9/9 [==============================] - 0s 3ms/step - loss: 0.4679 - val_loss: 0.4189\n",
      "Epoch 8/200\n",
      "9/9 [==============================] - 0s 3ms/step - loss: 0.4646 - val_loss: 0.4139\n",
      "Epoch 9/200\n",
      "9/9 [==============================] - 0s 3ms/step - loss: 0.4436 - val_loss: 0.4091\n",
      "Epoch 10/200\n",
      "9/9 [==============================] - 0s 3ms/step - loss: 0.4246 - val_loss: 0.4049\n",
      "Epoch 11/200\n",
      "9/9 [==============================] - 0s 3ms/step - loss: 0.4200 - val_loss: 0.3979\n",
      "Epoch 12/200\n",
      "9/9 [==============================] - 0s 3ms/step - loss: 0.4099 - val_loss: 0.3930\n",
      "Epoch 13/200\n",
      "9/9 [==============================] - 0s 4ms/step - loss: 0.4208 - val_loss: 0.3890\n",
      "Epoch 14/200\n",
      "9/9 [==============================] - 0s 3ms/step - loss: 0.4169 - val_loss: 0.3858\n",
      "Epoch 15/200\n",
      "9/9 [==============================] - 0s 3ms/step - loss: 0.4136 - val_loss: 0.3845\n",
      "Epoch 16/200\n",
      "9/9 [==============================] - 0s 3ms/step - loss: 0.4142 - val_loss: 0.3847\n",
      "Epoch 17/200\n",
      "9/9 [==============================] - 0s 3ms/step - loss: 0.4067 - val_loss: 0.3842\n",
      "Epoch 18/200\n",
      "9/9 [==============================] - 0s 3ms/step - loss: 0.4091 - val_loss: 0.3822\n",
      "Epoch 19/200\n",
      "9/9 [==============================] - 0s 3ms/step - loss: 0.4223 - val_loss: 0.3770\n",
      "Epoch 20/200\n",
      "9/9 [==============================] - 0s 3ms/step - loss: 0.3925 - val_loss: 0.3761\n",
      "Epoch 21/200\n",
      "9/9 [==============================] - 0s 3ms/step - loss: 0.4116 - val_loss: 0.3762\n",
      "Epoch 22/200\n",
      "9/9 [==============================] - 0s 3ms/step - loss: 0.3969 - val_loss: 0.3748\n",
      "Epoch 23/200\n",
      "9/9 [==============================] - 0s 3ms/step - loss: 0.3928 - val_loss: 0.3753\n",
      "Epoch 24/200\n",
      "9/9 [==============================] - 0s 3ms/step - loss: 0.3875 - val_loss: 0.3728\n",
      "Epoch 25/200\n",
      "9/9 [==============================] - 0s 3ms/step - loss: 0.4078 - val_loss: 0.3722\n",
      "Epoch 26/200\n",
      "9/9 [==============================] - 0s 3ms/step - loss: 0.3905 - val_loss: 0.3718\n",
      "Epoch 27/200\n",
      "9/9 [==============================] - 0s 3ms/step - loss: 0.3687 - val_loss: 0.3716\n",
      "Epoch 28/200\n",
      "9/9 [==============================] - 0s 3ms/step - loss: 0.3779 - val_loss: 0.3695\n",
      "Epoch 29/200\n",
      "9/9 [==============================] - 0s 3ms/step - loss: 0.3756 - val_loss: 0.3702\n",
      "Epoch 30/200\n",
      "9/9 [==============================] - 0s 3ms/step - loss: 0.3906 - val_loss: 0.3674\n",
      "Epoch 31/200\n",
      "9/9 [==============================] - 0s 3ms/step - loss: 0.3651 - val_loss: 0.3668\n",
      "Epoch 32/200\n",
      "9/9 [==============================] - 0s 3ms/step - loss: 0.3799 - val_loss: 0.3659\n",
      "Epoch 33/200\n",
      "9/9 [==============================] - 0s 3ms/step - loss: 0.3799 - val_loss: 0.3651\n",
      "Epoch 34/200\n",
      "9/9 [==============================] - 0s 3ms/step - loss: 0.3761 - val_loss: 0.3638\n",
      "Epoch 35/200\n",
      "9/9 [==============================] - 0s 3ms/step - loss: 0.3696 - val_loss: 0.3631\n",
      "Epoch 36/200\n",
      "9/9 [==============================] - 0s 3ms/step - loss: 0.3699 - val_loss: 0.3626\n",
      "Epoch 37/200\n",
      "9/9 [==============================] - 0s 3ms/step - loss: 0.3541 - val_loss: 0.3660\n",
      "Epoch 38/200\n",
      "9/9 [==============================] - 0s 3ms/step - loss: 0.3597 - val_loss: 0.3656\n",
      "Epoch 39/200\n",
      "9/9 [==============================] - 0s 3ms/step - loss: 0.3685 - val_loss: 0.3636\n",
      "Epoch 40/200\n",
      "9/9 [==============================] - 0s 3ms/step - loss: 0.3664 - val_loss: 0.3616\n",
      "Epoch 41/200\n",
      "9/9 [==============================] - 0s 3ms/step - loss: 0.3500 - val_loss: 0.3604\n",
      "Epoch 42/200\n",
      "9/9 [==============================] - 0s 3ms/step - loss: 0.3453 - val_loss: 0.3611\n",
      "Epoch 43/200\n",
      "9/9 [==============================] - 0s 3ms/step - loss: 0.3572 - val_loss: 0.3607\n",
      "Epoch 44/200\n",
      "9/9 [==============================] - 0s 3ms/step - loss: 0.3643 - val_loss: 0.3607\n",
      "Epoch 45/200\n",
      "9/9 [==============================] - 0s 3ms/step - loss: 0.3448 - val_loss: 0.3607\n",
      "Epoch 46/200\n",
      "9/9 [==============================] - 0s 3ms/step - loss: 0.3603 - val_loss: 0.3615\n",
      "Epoch 00046: early stopping\n"
     ]
    },
    {
     "data": {
      "text/plain": [
       "<tensorflow.python.keras.callbacks.History at 0x7fd96230eee0>"
      ]
     },
     "execution_count": 361,
     "metadata": {},
     "output_type": "execute_result"
    }
   ],
   "source": [
    "model.fit(x=X_train, \n",
    "          y=y_train, \n",
    "          batch_size=128,\n",
    "          epochs=200,\n",
    "          validation_data=(X_test, y_test), verbose=1,\n",
    "          callbacks=[early_stop]\n",
    "          )"
   ]
  },
  {
   "cell_type": "code",
   "execution_count": 362,
   "metadata": {},
   "outputs": [
    {
     "data": {
      "text/plain": [
       "<matplotlib.axes._subplots.AxesSubplot at 0x7fd9627ba9a0>"
      ]
     },
     "execution_count": 362,
     "metadata": {},
     "output_type": "execute_result"
    },
    {
     "data": {
      "image/png": "[encoded data removed]",
      "text/plain": [
       "<Figure size 432x288 with 1 Axes>"
      ]
     },
     "metadata": {
      "needs_background": "light"
     },
     "output_type": "display_data"
    }
   ],
   "source": [
    "model_loss = pd.DataFrame(model.history.history)\n",
    "model_loss.plot()"
   ]
  },
  {
   "cell_type": "code",
   "execution_count": 363,
   "metadata": {},
   "outputs": [],
   "source": [
    "y_pred = model.predict_classes(X_test)"
   ]
  },
  {
   "cell_type": "code",
   "execution_count": 364,
   "metadata": {
    "colab_type": "text",
    "id": "eTz0f2v730pM"
   },
   "outputs": [
    {
     "name": "stdout",
     "output_type": "stream",
     "text": [
      "              precision    recall  f1-score   support\n",
      "\n",
      "           0       0.83      1.00      0.91       364\n",
      "           1       0.83      0.06      0.12        77\n",
      "\n",
      "    accuracy                           0.83       441\n",
      "   macro avg       0.83      0.53      0.51       441\n",
      "weighted avg       0.83      0.83      0.77       441\n",
      "\n"
     ]
    }
   ],
   "source": [
    "from sklearn.metrics import classification_report,confusion_matrix, roc_auc_score\n",
    "\n",
    "print(classification_report(y_test,y_pred))"
   ]
  },
  {
   "cell_type": "code",
   "execution_count": 365,
   "metadata": {
    "colab": {},
    "colab_type": "code",
    "id": "Sjs4xEn_HlDR"
   },
   "outputs": [
    {
     "name": "stdout",
     "output_type": "stream",
     "text": [
      "[[363   1]\n",
      " [ 72   5]]\n",
      "ROC AUC:  0.531093906093906\n"
     ]
    }
   ],
   "source": [
    "print(confusion_matrix(y_test,y_pred))\n",
    "print('ROC AUC: ', roc_auc_score(y_test,y_pred))"
   ]
  }
 ],
 "metadata": {
  "accelerator": "GPU",
  "colab": {
   "name": "Assignment 6.ipynb",
   "provenance": []
  },
  "kernelspec": {
   "display_name": "Python 3",
   "language": "python",
   "name": "python3"
  },
  "language_info": {
   "codemirror_mode": {
    "name": "ipython",
    "version": 3
   },
   "file_extension": ".py",
   "mimetype": "text/x-python",
   "name": "python",
   "nbconvert_exporter": "python",
   "pygments_lexer": "ipython3",
   "version": "3.8.3"
  },
  "nteract": {
   "version": "0.25.1"
  }
 },
 "nbformat": 4,
 "nbformat_minor": 4
}
