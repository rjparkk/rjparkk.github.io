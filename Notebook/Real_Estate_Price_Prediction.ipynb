{
 "cells": [
  {
   "cell_type": "markdown",
   "metadata": {
    "colab_type": "text",
    "id": "G-3nvvEBGVUQ"
   },
   "source": [
    "1. Import required packages.\n",
    "2. Load the data file\n",
    "3. Select only the following columns from the dataset: 'PROPERTY TYPE', 'PRICE', 'BEDS', 'BATHS', 'SQUARE FEET', 'LOT SIZE'.\n",
    "\n",
    "3 pts."
   ]
  },
  {
   "cell_type": "code",
   "execution_count": 215,
   "metadata": {
    "colab": {},
    "colab_type": "code",
    "id": "_JgKFDTcUELy"
   },
   "outputs": [],
   "source": [
    "# Pre-load packages\n",
    "\n",
    "import pandas as pd\n",
    "import seaborn as sns\n",
    "from sklearn.model_selection import train_test_split\n",
    "from sklearn.linear_model import LinearRegression\n",
    "import math"
   ]
  },
  {
   "cell_type": "code",
   "execution_count": 217,
   "metadata": {
    "colab": {},
    "colab_type": "code",
    "id": "i8BaOG0yXJI-"
   },
   "outputs": [],
   "source": [
    "listings = pd.read_csv('fortlee-properties.csv')\n",
    "listings = listings[['PROPERTY TYPE', 'PRICE', 'BEDS', 'BATHS', 'SQUARE FEET', 'LOT SIZE']]"
   ]
  },
  {
   "cell_type": "markdown",
   "metadata": {
    "colab_type": "text",
    "id": "md8UC-CSGfe-"
   },
   "source": [
    "4. Check for missing values using a heatmap.\n",
    "5. Check data distribution by property type using a histogram (bar graph).\n",
    "6. Exclude records if appropriate.\n",
    "\n",
    "3 pts.\n",
    "\n"
   ]
  },
  {
   "cell_type": "code",
   "execution_count": 120,
   "metadata": {
    "colab": {
     "base_uri": "https://localhost:8080/",
     "height": 238
    },
    "colab_type": "code",
    "id": "CM1mjpS6KzwF",
    "outputId": "305e1586-d2c6-4f00-c3dc-0a9741aed10c"
   },
   "outputs": [
    {
     "name": "stdout",
     "output_type": "stream",
     "text": [
      "<class 'pandas.core.frame.DataFrame'>\n",
      "RangeIndex: 344 entries, 0 to 343\n",
      "Data columns (total 6 columns):\n",
      " #   Column         Non-Null Count  Dtype  \n",
      "---  ------         --------------  -----  \n",
      " 0   PROPERTY TYPE  344 non-null    object \n",
      " 1   PRICE          344 non-null    int64  \n",
      " 2   BEDS           344 non-null    int64  \n",
      " 3   BATHS          344 non-null    float64\n",
      " 4   SQUARE FEET    144 non-null    float64\n",
      " 5   LOT SIZE       54 non-null     float64\n",
      "dtypes: float64(3), int64(2), object(1)\n",
      "memory usage: 16.2+ KB\n"
     ]
    }
   ],
   "source": [
    "# Check non-null value distribution\n",
    "\n",
    "listings.info()"
   ]
  },
  {
   "cell_type": "code",
   "execution_count": 121,
   "metadata": {
    "colab": {
     "base_uri": "https://localhost:8080/",
     "height": 355
    },
    "colab_type": "code",
    "id": "Qk70ghtXUG0p",
    "outputId": "70bafe69-924c-4d0f-ec33-fbdb347831f1"
   },
   "outputs": [
    {
     "data": {
      "text/plain": [
       "<matplotlib.axes._subplots.AxesSubplot at 0x7ff809967470>"
      ]
     },
     "execution_count": 121,
     "metadata": {
      "tags": []
     },
     "output_type": "execute_result"
    },
    {
     "data": {
      "image/png": "[encoded data removed]",
      "text/plain": [
       "<Figure size 432x288 with 2 Axes>"
      ]
     },
     "metadata": {
      "needs_background": "light",
      "tags": []
     },
     "output_type": "display_data"
    }
   ],
   "source": [
    "# Explore missing values across features\n",
    "\n",
    "sns.heatmap(listings.isnull(), cbar=True)"
   ]
  },
  {
   "cell_type": "code",
   "execution_count": 218,
   "metadata": {
    "colab": {
     "base_uri": "https://localhost:8080/",
     "height": 368
    },
    "colab_type": "code",
    "id": "xSn2rkIQK5C7",
    "outputId": "cef8a89a-e1d6-4fc5-de4f-d95bab49cda4"
   },
   "outputs": [
    {
     "data": {
      "text/plain": [
       "<matplotlib.axes._subplots.AxesSubplot at 0x7ff8083729e8>"
      ]
     },
     "execution_count": 218,
     "metadata": {
      "tags": []
     },
     "output_type": "execute_result"
    },
    {
     "data": {
      "image/png": "[encoded data removed]",
      "text/plain": [
       "<Figure size 432x288 with 1 Axes>"
      ]
     },
     "metadata": {
      "needs_background": "light",
      "tags": []
     },
     "output_type": "display_data"
    }
   ],
   "source": [
    "# Explore frequency distribution of different property types\n",
    "\n",
    "listings['PROPERTY TYPE'].hist(xrot=45.0)"
   ]
  },
  {
   "cell_type": "code",
   "execution_count": 219,
   "metadata": {
    "colab": {
     "base_uri": "https://localhost:8080/",
     "height": 51
    },
    "colab_type": "code",
    "id": "NYtafAfoUNSK",
    "outputId": "96e84c60-9240-4fab-8ceb-e41332d88e89"
   },
   "outputs": [
    {
     "data": {
      "text/plain": [
       "array(['Condo/Co-op', 'Single Family Residential', 'Townhouse',\n",
       "       'Multi-Family (2-4 Unit)'], dtype=object)"
      ]
     },
     "execution_count": 219,
     "metadata": {
      "tags": []
     },
     "output_type": "execute_result"
    }
   ],
   "source": [
    "listings['PROPERTY TYPE'].unique()\n"
   ]
  },
  {
   "cell_type": "markdown",
   "metadata": {
    "colab_type": "text",
    "id": "WPXR5RayH_Rj"
   },
   "source": [
    "9. Remove outliers if necessary.\n",
    "10. Impute missing values as appropriate.\n",
    "\n",
    "2 pts.\n"
   ]
  },
  {
   "cell_type": "code",
   "execution_count": 220,
   "metadata": {
    "colab": {
     "base_uri": "https://localhost:8080/",
     "height": 660
    },
    "colab_type": "code",
    "id": "oI0QglLaMMY0",
    "outputId": "94a5b91c-3e65-4b17-bc22-433b6091d44c"
   },
   "outputs": [
    {
     "data": {
      "text/plain": [
       "<seaborn.axisgrid.PairGrid at 0x7ff8083c4fd0>"
      ]
     },
     "execution_count": 220,
     "metadata": {
      "tags": []
     },
     "output_type": "execute_result"
    },
    {
     "data": {
      "image/png": "[encoded data removed]",
      "text/plain": [
       "<Figure size 900x900 with 30 Axes>"
      ]
     },
     "metadata": {
      "needs_background": "light",
      "tags": []
     },
     "output_type": "display_data"
    }
   ],
   "source": [
    "sns.pairplot(listings)"
   ]
  },
  {
   "cell_type": "code",
   "execution_count": 102,
   "metadata": {
    "colab": {
     "base_uri": "https://localhost:8080/",
     "height": 297
    },
    "colab_type": "code",
    "id": "TD2U1R_uMXHQ",
    "outputId": "de87d178-9e61-4f95-991b-8a5afe08395f"
   },
   "outputs": [
    {
     "data": {
      "text/html": [
       "<div>\n",
       "<style scoped>\n",
       "    .dataframe tbody tr th:only-of-type {\n",
       "        vertical-align: middle;\n",
       "    }\n",
       "\n",
       "    .dataframe tbody tr th {\n",
       "        vertical-align: top;\n",
       "    }\n",
       "\n",
       "    .dataframe thead th {\n",
       "        text-align: right;\n",
       "    }\n",
       "</style>\n",
       "<table border=\"1\" class=\"dataframe\">\n",
       "  <thead>\n",
       "    <tr style=\"text-align: right;\">\n",
       "      <th></th>\n",
       "      <th>PRICE</th>\n",
       "      <th>BEDS</th>\n",
       "      <th>BATHS</th>\n",
       "      <th>SQUARE FEET</th>\n",
       "      <th>LOT SIZE</th>\n",
       "    </tr>\n",
       "  </thead>\n",
       "  <tbody>\n",
       "    <tr>\n",
       "      <th>count</th>\n",
       "      <td>3.340000e+02</td>\n",
       "      <td>334.000000</td>\n",
       "      <td>334.000000</td>\n",
       "      <td>144.000000</td>\n",
       "      <td>46.000000</td>\n",
       "    </tr>\n",
       "    <tr>\n",
       "      <th>mean</th>\n",
       "      <td>5.636079e+05</td>\n",
       "      <td>2.287425</td>\n",
       "      <td>2.247006</td>\n",
       "      <td>1540.090278</td>\n",
       "      <td>17875.934783</td>\n",
       "    </tr>\n",
       "    <tr>\n",
       "      <th>std</th>\n",
       "      <td>6.576034e+05</td>\n",
       "      <td>1.333792</td>\n",
       "      <td>1.237395</td>\n",
       "      <td>834.065064</td>\n",
       "      <td>31928.627892</td>\n",
       "    </tr>\n",
       "    <tr>\n",
       "      <th>min</th>\n",
       "      <td>6.800000e+04</td>\n",
       "      <td>0.000000</td>\n",
       "      <td>1.000000</td>\n",
       "      <td>18.000000</td>\n",
       "      <td>3049.000000</td>\n",
       "    </tr>\n",
       "    <tr>\n",
       "      <th>25%</th>\n",
       "      <td>2.290000e+05</td>\n",
       "      <td>1.000000</td>\n",
       "      <td>1.125000</td>\n",
       "      <td>973.750000</td>\n",
       "      <td>5001.000000</td>\n",
       "    </tr>\n",
       "    <tr>\n",
       "      <th>50%</th>\n",
       "      <td>3.590000e+05</td>\n",
       "      <td>2.000000</td>\n",
       "      <td>2.000000</td>\n",
       "      <td>1365.500000</td>\n",
       "      <td>8860.500000</td>\n",
       "    </tr>\n",
       "    <tr>\n",
       "      <th>75%</th>\n",
       "      <td>6.772500e+05</td>\n",
       "      <td>3.000000</td>\n",
       "      <td>2.500000</td>\n",
       "      <td>1862.500000</td>\n",
       "      <td>12543.500000</td>\n",
       "    </tr>\n",
       "    <tr>\n",
       "      <th>max</th>\n",
       "      <td>7.000000e+06</td>\n",
       "      <td>8.000000</td>\n",
       "      <td>7.000000</td>\n",
       "      <td>6270.000000</td>\n",
       "      <td>188614.000000</td>\n",
       "    </tr>\n",
       "  </tbody>\n",
       "</table>\n",
       "</div>"
      ],
      "text/plain": [
       "              PRICE        BEDS       BATHS  SQUARE FEET       LOT SIZE\n",
       "count  3.340000e+02  334.000000  334.000000   144.000000      46.000000\n",
       "mean   5.636079e+05    2.287425    2.247006  1540.090278   17875.934783\n",
       "std    6.576034e+05    1.333792    1.237395   834.065064   31928.627892\n",
       "min    6.800000e+04    0.000000    1.000000    18.000000    3049.000000\n",
       "25%    2.290000e+05    1.000000    1.125000   973.750000    5001.000000\n",
       "50%    3.590000e+05    2.000000    2.000000  1365.500000    8860.500000\n",
       "75%    6.772500e+05    3.000000    2.500000  1862.500000   12543.500000\n",
       "max    7.000000e+06    8.000000    7.000000  6270.000000  188614.000000"
      ]
     },
     "execution_count": 102,
     "metadata": {
      "tags": []
     },
     "output_type": "execute_result"
    }
   ],
   "source": [
    "# Get summary statistics\n",
    "\n",
    "listings.describe()"
   ]
  },
  {
   "cell_type": "code",
   "execution_count": 221,
   "metadata": {
    "colab": {},
    "colab_type": "code",
    "id": "bDwfkN8ENi9y"
   },
   "outputs": [],
   "source": [
    "# Filter out records matching criteria\n",
    "\n",
    "listings.drop(listings[listings['SQUARE FEET'] > 2000 ].index, inplace=True)\n",
    "listings.drop(listings[listings['LOT SIZE'] > 50000 ].index, inplace=True)"
   ]
  },
  {
   "cell_type": "code",
   "execution_count": 222,
   "metadata": {
    "colab": {},
    "colab_type": "code",
    "id": "YIpVnXwvNsBw"
   },
   "outputs": [],
   "source": [
    "# Mean impute missing numeric values\n",
    "\n",
    "imputed = listings.fillna(listings.mean())"
   ]
  },
  {
   "cell_type": "code",
   "execution_count": 223,
   "metadata": {
    "colab": {
     "base_uri": "https://localhost:8080/",
     "height": 297
    },
    "colab_type": "code",
    "id": "NJulDsuYNuJ4",
    "outputId": "e535dac2-00df-494a-e517-b7992133a265"
   },
   "outputs": [
    {
     "data": {
      "text/html": [
       "<div>\n",
       "<style scoped>\n",
       "    .dataframe tbody tr th:only-of-type {\n",
       "        vertical-align: middle;\n",
       "    }\n",
       "\n",
       "    .dataframe tbody tr th {\n",
       "        vertical-align: top;\n",
       "    }\n",
       "\n",
       "    .dataframe thead th {\n",
       "        text-align: right;\n",
       "    }\n",
       "</style>\n",
       "<table border=\"1\" class=\"dataframe\">\n",
       "  <thead>\n",
       "    <tr style=\"text-align: right;\">\n",
       "      <th></th>\n",
       "      <th>PRICE</th>\n",
       "      <th>BEDS</th>\n",
       "      <th>BATHS</th>\n",
       "      <th>SQUARE FEET</th>\n",
       "      <th>LOT SIZE</th>\n",
       "    </tr>\n",
       "  </thead>\n",
       "  <tbody>\n",
       "    <tr>\n",
       "      <th>count</th>\n",
       "      <td>3.120000e+02</td>\n",
       "      <td>312.000000</td>\n",
       "      <td>312.000000</td>\n",
       "      <td>312.000000</td>\n",
       "      <td>312.000000</td>\n",
       "    </tr>\n",
       "    <tr>\n",
       "      <th>mean</th>\n",
       "      <td>5.630030e+05</td>\n",
       "      <td>2.342949</td>\n",
       "      <td>2.238782</td>\n",
       "      <td>1233.859649</td>\n",
       "      <td>8759.387755</td>\n",
       "    </tr>\n",
       "    <tr>\n",
       "      <th>std</th>\n",
       "      <td>6.774401e+05</td>\n",
       "      <td>1.521871</td>\n",
       "      <td>1.324346</td>\n",
       "      <td>236.128349</td>\n",
       "      <td>2263.740775</td>\n",
       "    </tr>\n",
       "    <tr>\n",
       "      <th>min</th>\n",
       "      <td>6.800000e+04</td>\n",
       "      <td>0.000000</td>\n",
       "      <td>1.000000</td>\n",
       "      <td>18.000000</td>\n",
       "      <td>2500.000000</td>\n",
       "    </tr>\n",
       "    <tr>\n",
       "      <th>25%</th>\n",
       "      <td>2.237250e+05</td>\n",
       "      <td>1.000000</td>\n",
       "      <td>1.000000</td>\n",
       "      <td>1233.859649</td>\n",
       "      <td>8759.387755</td>\n",
       "    </tr>\n",
       "    <tr>\n",
       "      <th>50%</th>\n",
       "      <td>3.545000e+05</td>\n",
       "      <td>2.000000</td>\n",
       "      <td>2.000000</td>\n",
       "      <td>1233.859649</td>\n",
       "      <td>8759.387755</td>\n",
       "    </tr>\n",
       "    <tr>\n",
       "      <th>75%</th>\n",
       "      <td>6.636750e+05</td>\n",
       "      <td>3.000000</td>\n",
       "      <td>2.500000</td>\n",
       "      <td>1233.859649</td>\n",
       "      <td>8759.387755</td>\n",
       "    </tr>\n",
       "    <tr>\n",
       "      <th>max</th>\n",
       "      <td>7.000000e+06</td>\n",
       "      <td>8.000000</td>\n",
       "      <td>8.000000</td>\n",
       "      <td>2000.000000</td>\n",
       "      <td>33705.000000</td>\n",
       "    </tr>\n",
       "  </tbody>\n",
       "</table>\n",
       "</div>"
      ],
      "text/plain": [
       "              PRICE        BEDS       BATHS  SQUARE FEET      LOT SIZE\n",
       "count  3.120000e+02  312.000000  312.000000   312.000000    312.000000\n",
       "mean   5.630030e+05    2.342949    2.238782  1233.859649   8759.387755\n",
       "std    6.774401e+05    1.521871    1.324346   236.128349   2263.740775\n",
       "min    6.800000e+04    0.000000    1.000000    18.000000   2500.000000\n",
       "25%    2.237250e+05    1.000000    1.000000  1233.859649   8759.387755\n",
       "50%    3.545000e+05    2.000000    2.000000  1233.859649   8759.387755\n",
       "75%    6.636750e+05    3.000000    2.500000  1233.859649   8759.387755\n",
       "max    7.000000e+06    8.000000    8.000000  2000.000000  33705.000000"
      ]
     },
     "execution_count": 223,
     "metadata": {
      "tags": []
     },
     "output_type": "execute_result"
    }
   ],
   "source": [
    "imputed.describe()"
   ]
  },
  {
   "cell_type": "code",
   "execution_count": 224,
   "metadata": {
    "colab": {
     "base_uri": "https://localhost:8080/",
     "height": 54
    },
    "colab_type": "code",
    "id": "Wb8vg8bfOTUk",
    "outputId": "7d71dc31-7a0f-4ead-d64c-07f0ccb4fdfd"
   },
   "outputs": [
    {
     "data": {
      "text/plain": [
       "Index(['PROPERTY TYPE', 'PRICE', 'BEDS', 'BATHS', 'SQUARE FEET', 'LOT SIZE'], dtype='object')"
      ]
     },
     "execution_count": 224,
     "metadata": {
      "tags": []
     },
     "output_type": "execute_result"
    }
   ],
   "source": [
    "imputed.columns"
   ]
  },
  {
   "cell_type": "markdown",
   "metadata": {
    "colab_type": "text",
    "id": "XwhiqA8UIScs"
   },
   "source": [
    "11. Split data 70/30 into training and test datasets.\n",
    "12. Build a multiple linear regression model to predict Price.\n",
    "13. Report R2, MAE, Max error, RMSE.\n",
    "14. Comment on whether the model performance would be acceptable for practitioners.\n",
    "\n",
    "7 pts."
   ]
  },
  {
   "cell_type": "code",
   "execution_count": 225,
   "metadata": {
    "colab": {},
    "colab_type": "code",
    "id": "GjEZtfKPVyp2"
   },
   "outputs": [],
   "source": [
    "predictors = ['PROPERTY TYPE', 'BEDS', 'BATHS', 'SQUARE FEET', 'LOT SIZE']"
   ]
  },
  {
   "cell_type": "code",
   "execution_count": 226,
   "metadata": {
    "colab": {},
    "colab_type": "code",
    "id": "kpf5lXL6OYbU"
   },
   "outputs": [],
   "source": [
    "X = pd.get_dummies(imputed[predictors], drop_first=True)\n",
    "y = imputed['PRICE']\n",
    "\n",
    "train_X, valid_X, train_y, valid_y = train_test_split(X, y, test_size=0.3, random_state=1)"
   ]
  },
  {
   "cell_type": "code",
   "execution_count": 227,
   "metadata": {
    "colab": {
     "base_uri": "https://localhost:8080/",
     "height": 54
    },
    "colab_type": "code",
    "id": "PjBMyIFxOrLp",
    "outputId": "00d26cfd-0de0-48c8-fb7c-4b98b7170e00"
   },
   "outputs": [
    {
     "data": {
      "text/plain": [
       "LinearRegression(copy_X=True, fit_intercept=True, n_jobs=None, normalize=False)"
      ]
     },
     "execution_count": 227,
     "metadata": {
      "tags": []
     },
     "output_type": "execute_result"
    }
   ],
   "source": [
    "re_prices = LinearRegression()\n",
    "\n",
    "re_prices.fit(train_X, train_y)"
   ]
  },
  {
   "cell_type": "code",
   "execution_count": 228,
   "metadata": {
    "colab": {
     "base_uri": "https://localhost:8080/",
     "height": 105
    },
    "colab_type": "code",
    "id": "LCunogUYOtO3",
    "outputId": "40264fee-1b96-49c8-b164-9c9463082c23"
   },
   "outputs": [
    {
     "data": {
      "text/plain": [
       "Index(['BEDS', 'BATHS', 'SQUARE FEET', 'LOT SIZE',\n",
       "       'PROPERTY TYPE_Multi-Family (2-4 Unit)',\n",
       "       'PROPERTY TYPE_Single Family Residential', 'PROPERTY TYPE_Townhouse'],\n",
       "      dtype='object')"
      ]
     },
     "execution_count": 228,
     "metadata": {
      "tags": []
     },
     "output_type": "execute_result"
    }
   ],
   "source": [
    "X.columns"
   ]
  },
  {
   "cell_type": "code",
   "execution_count": 229,
   "metadata": {
    "colab": {
     "base_uri": "https://localhost:8080/",
     "height": 34
    },
    "colab_type": "code",
    "id": "KbqIM66GOu_Q",
    "outputId": "8ac121fb-d4f5-4cda-fe6a-91c399ba6235"
   },
   "outputs": [
    {
     "data": {
      "text/plain": [
       "-892701.2633950349"
      ]
     },
     "execution_count": 229,
     "metadata": {
      "tags": []
     },
     "output_type": "execute_result"
    }
   ],
   "source": [
    "# Regression functional form\n",
    "# Price = Intercept + b1*BEDS + b2*BATHS + b3*SqFt + b4*LotSize \n",
    "\n",
    "re_prices.intercept_"
   ]
  },
  {
   "cell_type": "code",
   "execution_count": 230,
   "metadata": {
    "colab": {
     "base_uri": "https://localhost:8080/",
     "height": 51
    },
    "colab_type": "code",
    "id": "p-4lqTHrO3aB",
    "outputId": "27c9cd30-7364-4e94-9403-207ebd679ccd"
   },
   "outputs": [
    {
     "data": {
      "text/plain": [
       "array([-6.46379732e+04,  3.05575011e+05, -5.09399116e+00,  9.31045353e+01,\n",
       "        6.98832064e+05,  5.14984561e+05,  1.07328681e+05])"
      ]
     },
     "execution_count": 230,
     "metadata": {
      "tags": []
     },
     "output_type": "execute_result"
    }
   ],
   "source": [
    "re_prices.coef_"
   ]
  },
  {
   "cell_type": "code",
   "execution_count": 211,
   "metadata": {
    "colab": {
     "base_uri": "https://localhost:8080/",
     "height": 255
    },
    "colab_type": "code",
    "id": "fy2TYXBtO6Op",
    "outputId": "aa4b49e1-cb41-41be-adcd-4ec9c4dbe9c5"
   },
   "outputs": [
    {
     "data": {
      "text/html": [
       "<div>\n",
       "<style scoped>\n",
       "    .dataframe tbody tr th:only-of-type {\n",
       "        vertical-align: middle;\n",
       "    }\n",
       "\n",
       "    .dataframe tbody tr th {\n",
       "        vertical-align: top;\n",
       "    }\n",
       "\n",
       "    .dataframe thead th {\n",
       "        text-align: right;\n",
       "    }\n",
       "</style>\n",
       "<table border=\"1\" class=\"dataframe\">\n",
       "  <thead>\n",
       "    <tr style=\"text-align: right;\">\n",
       "      <th></th>\n",
       "      <th>BEDS</th>\n",
       "      <th>BATHS</th>\n",
       "      <th>SQUARE FEET</th>\n",
       "      <th>LOT SIZE</th>\n",
       "      <th>PROPERTY TYPE_Single Family Residential</th>\n",
       "      <th>PROPERTY TYPE_Townhouse</th>\n",
       "    </tr>\n",
       "  </thead>\n",
       "  <tbody>\n",
       "    <tr>\n",
       "      <th>164</th>\n",
       "      <td>1</td>\n",
       "      <td>1.5</td>\n",
       "      <td>1233.859649</td>\n",
       "      <td>9431.585366</td>\n",
       "      <td>0</td>\n",
       "      <td>0</td>\n",
       "    </tr>\n",
       "    <tr>\n",
       "      <th>226</th>\n",
       "      <td>2</td>\n",
       "      <td>2.0</td>\n",
       "      <td>1233.859649</td>\n",
       "      <td>9431.585366</td>\n",
       "      <td>0</td>\n",
       "      <td>0</td>\n",
       "    </tr>\n",
       "    <tr>\n",
       "      <th>330</th>\n",
       "      <td>3</td>\n",
       "      <td>2.0</td>\n",
       "      <td>1233.859649</td>\n",
       "      <td>9431.585366</td>\n",
       "      <td>0</td>\n",
       "      <td>0</td>\n",
       "    </tr>\n",
       "    <tr>\n",
       "      <th>312</th>\n",
       "      <td>2</td>\n",
       "      <td>2.0</td>\n",
       "      <td>1233.859649</td>\n",
       "      <td>9431.585366</td>\n",
       "      <td>0</td>\n",
       "      <td>0</td>\n",
       "    </tr>\n",
       "    <tr>\n",
       "      <th>22</th>\n",
       "      <td>1</td>\n",
       "      <td>1.0</td>\n",
       "      <td>1062.000000</td>\n",
       "      <td>9431.585366</td>\n",
       "      <td>0</td>\n",
       "      <td>0</td>\n",
       "    </tr>\n",
       "  </tbody>\n",
       "</table>\n",
       "</div>"
      ],
      "text/plain": [
       "     BEDS  ...  PROPERTY TYPE_Townhouse\n",
       "164     1  ...                        0\n",
       "226     2  ...                        0\n",
       "330     3  ...                        0\n",
       "312     2  ...                        0\n",
       "22      1  ...                        0\n",
       "\n",
       "[5 rows x 6 columns]"
      ]
     },
     "execution_count": 211,
     "metadata": {
      "tags": []
     },
     "output_type": "execute_result"
    }
   ],
   "source": [
    "train_X.head()"
   ]
  },
  {
   "cell_type": "code",
   "execution_count": 231,
   "metadata": {
    "colab": {},
    "colab_type": "code",
    "id": "7z97HdrDPBgi"
   },
   "outputs": [],
   "source": [
    "from sklearn.metrics import mean_absolute_error, mean_squared_error, max_error, r2_score, explained_variance_score "
   ]
  },
  {
   "cell_type": "code",
   "execution_count": 232,
   "metadata": {
    "colab": {},
    "colab_type": "code",
    "id": "5LLo8LoDPC2h"
   },
   "outputs": [],
   "source": [
    "pred_y = re_prices.predict(valid_X)"
   ]
  },
  {
   "cell_type": "code",
   "execution_count": 233,
   "metadata": {
    "colab": {
     "base_uri": "https://localhost:8080/",
     "height": 102
    },
    "colab_type": "code",
    "id": "-XRG0r-kPE6k",
    "outputId": "c8322fa5-ceef-42c7-99eb-a7bc4a759148"
   },
   "outputs": [
    {
     "name": "stdout",
     "output_type": "stream",
     "text": [
      "Regression model performance evaluation\n",
      "R2:  0.6540378374979445\n",
      "MAE:  157856.59030487988\n",
      "RMSE:  302104.7969248088\n",
      "Max error:  1965158.4807098436\n"
     ]
    }
   ],
   "source": [
    "print('Regression model performance evaluation')\n",
    "print('R2: ', r2_score(valid_y, pred_y))\n",
    "print('MAE: ', mean_absolute_error(valid_y, pred_y))\n",
    "print('RMSE: ', math.sqrt(mean_squared_error(valid_y, pred_y)))\n",
    "print('Max error: ', max_error(valid_y, pred_y))"
   ]
  },
  {
   "cell_type": "markdown",
   "metadata": {
    "colab_type": "text",
    "id": "7gdM2wLEVzOG"
   },
   "source": [
    "The r-squared for this model is positive and between 0 and 1, but the errors made are more than half of the actual pricing values. \n",
    "\n",
    "The mean absolute of error of this model is about 157,000, meaning that this model is over predicting the asking price. \n",
    "\n",
    "The root mean square error of this model is almost double than the mean absolute of error, which entails that the model has substainial records to create acurrate predictions. \n",
    "\n",
    "The max error of this model is almost $1.9 million dollars, which further indicates that this model does not perform well. "
   ]
  }
 ],
 "metadata": {
  "colab": {
   "collapsed_sections": [],
   "name": "Assignment 1.ipynb",
   "provenance": []
  },
  "kernelspec": {
   "display_name": "Python 3",
   "language": "python",
   "name": "python3"
  },
  "language_info": {
   "codemirror_mode": {
    "name": "ipython",
    "version": 3
   },
   "file_extension": ".py",
   "mimetype": "text/x-python",
   "name": "python",
   "nbconvert_exporter": "python",
   "pygments_lexer": "ipython3",
   "version": "3.8.3"
  }
 },
 "nbformat": 4,
 "nbformat_minor": 4
}
